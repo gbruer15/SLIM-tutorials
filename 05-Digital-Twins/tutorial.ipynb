{
 "cells": [
  {
   "cell_type": "markdown",
   "metadata": {},
   "source": [
    "# Digital Shadows in Julia\n",
    "\n",
    "This tutorial demonstrates how to create and work with digital shadows for CO₂ storage monitoring using Julia. We'll use ensemble-based data assimilation to combine physical models with real-time observations.\n",
    "\n",
    "## Introduction to digital shadows\n",
    "\n",
    "A digital shadow is a virtual representation of a physical system that is updated with real data. In the context of CO₂ storage, our digital shadow will:\n",
    "\n",
    "1. Simulate CO₂ plume migration in the subsurface\n",
    "2. Incorporate seismic monitoring data\n",
    "3. Update predictions based on observations\n",
    "\n",
    "## Setup and Installation\n",
    "\n",
    "First, we'll install and load the required packages. This tutorial uses:\n",
    "\n",
    "- JutulDarcy: for CO₂ flow simulation\n",
    "- JUDI: for seismic modeling\n",
    "- CairoMakie: For visualization\n",
    "- JLD2: for saving data\n",
    "- DrWatson: for ease of saving and accessing data\n",
    "- Other utility packages\n",
    "- Scripts for data assimilation\n",
    "\n",
    "But it also uses packages that Grant is currently developing to facilitate our digital twins research:\n",
    "\n",
    "- [Ensembles.jl]\n",
    "- [EnsembleKalmanFilters.jl]\n",
    "- [ConfigurationsJutulDarcy.jl]\n",
    "- [JutulJUDIFilter.jl]\n",
    "\n",
    "Since these unreleased packages are not in the Julia package registry, we here use an `install.jl` script to add them by url.\n",
    "\n",
    "[Ensembles.jl]: [https://github.com/DataAssimilation/Ensembles.jl]\n",
    "[EnsembleKalmanFilters.jl]: [https://github.com/DataAssimilation/EnsembleKalmanFilters.jl]\n",
    "[ConfigurationsJutulDarcy.jl]: [https://github.com/DataAssimilation/ConfigurationsJutulDarcy.jl]\n",
    "[JutulJUDIFilter.jl]: [https://github.com/DataAssimilation/JutulJUDIFilter.jl]"
   ]
  },
  {
   "cell_type": "code",
   "execution_count": null,
   "metadata": {},
   "outputs": [],
   "source": [
    "using Pkg\n",
    "if ispath(\"/usr/local/bin/SLIM-tutorials/05-Digital-Twins\")\n",
    "    Pkg.activate(\"/usr/local/bin/SLIM-tutorials/05-Digital-Twins\")\n",
    "end\n",
    "ENV[\"jutuljudifilter_force_install\"] = \"true\"\n",
    "include(\"scripts/install.jl\")\n",
    "ENV[\"jutuljudifilter_force_install\"] = \"false\";\n",
    "Base.active_project()"
   ]
  },
  {
   "cell_type": "code",
   "execution_count": null,
   "metadata": {},
   "outputs": [],
   "source": [
    "include(\"scripts/generate_ground_truth.jl\")\n",
    "include(\"scripts/generate_initial_ensemble.jl\")\n",
    "include(\"scripts/run_estimator.jl\")\n",
    "using CairoMakie\n",
    "using JutulJUDIFilter\n",
    "using JLD2"
   ]
  },
  {
   "cell_type": "markdown",
   "metadata": {},
   "source": [
    "## Mathematical Framework\n",
    "\n",
    "Our digital twin system is based on two key components:\n",
    "\n",
    "1. **State evolution**: The system state $x$ evolves over time according to the transition operator $\\mathcal{M}$ such that\n",
    "   $x_{t+1} = \\mathcal{M}(x_t)$\n",
    "\n",
    "2. **Observations**: We observe the state indirectly through measurements $y$ using the observation operator $\\mathcal{H}$ such that\n",
    "   $y_t = \\mathcal{H}(x_t)$\n",
    "\n",
    "### CO₂ plume physics\n",
    "\n",
    "The transition operator $\\mathcal{M}$ models:\n",
    "- Two-phase flow (CO₂ and water)\n",
    "- Pressure evolution\n",
    "- Density and viscosity effects\n",
    "- Permeability and porosity influences\n",
    "\n",
    "See `src/jutul_model.jl` for the interface we use to set up and call JutulDarcy for simulating the fluid flow.\n",
    "\n",
    "### Seismic monitoring\n",
    "\n",
    "The observation operator $\\mathcal{H}$ represents:\n",
    "- Seismic wave propagation\n",
    "- Rock physics relationships\n",
    "- Acquisition geometry\n",
    "\n",
    "See `src/seismic_model.jl` for the interface we use to set up and call JUDI."
   ]
  },
  {
   "cell_type": "markdown",
   "metadata": {},
   "source": [
    "## Generate Ground Truth Data\n",
    "\n",
    "We'll create synthetic data to represent the \"true\" system we want to monitor. This includes:\n",
    "1. A permeability field\n",
    "2. CO₂ injection scenario\n",
    "3. Resulting seismic observations\n",
    "\n",
    "We can print out a readable format of the ground-truth params as YAML."
   ]
  },
  {
   "cell_type": "code",
   "execution_count": null,
   "metadata": {},
   "outputs": [],
   "source": [
    "params = include(\"params/tutorial-params.jl\")\n",
    "filestem = \"tutorial\"\n",
    "\n",
    "params_gt = params.ground_truth\n",
    "\n",
    "params_file = datadir(\"ground_truth\", \"params\", \"$filestem.jld2\")\n",
    "wsave(params_file; params=params_gt)\n",
    "\n",
    "params_file = datadir(\"ground_truth\", \"params\", \"$filestem-human.yaml\")\n",
    "YAML.write_file(params_file, to_dict(params_gt, YAMLStyle))"
   ]
  },
  {
   "cell_type": "markdown",
   "metadata": {},
   "source": [
    "### Transition parameters"
   ]
  },
  {
   "cell_type": "code",
   "execution_count": null,
   "metadata": {
    "scrolled": true
   },
   "outputs": [],
   "source": [
    "println(YAML.write(to_dict(params_gt.transition, YAMLStyle)))"
   ]
  },
  {
   "cell_type": "markdown",
   "metadata": {},
   "source": [
    "### Observation parameters"
   ]
  },
  {
   "cell_type": "code",
   "execution_count": null,
   "metadata": {
    "scrolled": true
   },
   "outputs": [],
   "source": [
    "println(\"Observation times (seconds): $([o.first for o in params_gt.observation.observers])\")\n",
    "println()\n",
    "println(YAML.write(to_dict(params_gt.observation.observers[1].second, YAMLStyle)))"
   ]
  },
  {
   "cell_type": "markdown",
   "metadata": {},
   "source": [
    "### Simulate ground-truth transitions and observations\n",
    "\n",
    "This code uses [DrWatson]'s `produce_or_load` functionality. It checks the given `filename` for the data, and if it doesn't exist, the data is generated with `generate_ground_truth` defined in `scripts/generate_ground_truth.jl`.\n",
    "\n",
    "[DrWatson]: [https://juliadynamics.github.io/DrWatson.jl/stable/]"
   ]
  },
  {
   "cell_type": "code",
   "execution_count": null,
   "metadata": {
    "scrolled": true
   },
   "outputs": [],
   "source": [
    "savedir = datadir(\"ground_truth\", \"data\")\n",
    "data_gt, filepath = produce_or_load(\n",
    "    generate_ground_truth,\n",
    "    params_gt,\n",
    "    savedir;\n",
    "    filename=filestem,\n",
    "    verbose=true,\n",
    "    force=false,\n",
    ")\n",
    "states = data_gt[\"states\"]\n",
    "observations = data_gt[\"observations\"]\n",
    "observations_clean = data_gt[\"observations_clean\"]\n",
    "state_times = data_gt[\"state_times\"]\n",
    "observation_times = data_gt[\"observation_times\"];"
   ]
  },
  {
   "cell_type": "markdown",
   "metadata": {},
   "source": [
    "## Visualize ground-truth data\n",
    "\n",
    "Let's look at the generated data. First, we'll check some basic information about the data."
   ]
  },
  {
   "cell_type": "code",
   "execution_count": null,
   "metadata": {
    "scrolled": true
   },
   "outputs": [],
   "source": [
    "@show length(states)\n",
    "println()\n",
    "@show length(state_times)\n",
    "println()\n",
    "@show keys(states[1])\n",
    "println()\n",
    "@show keys(observations[1])\n",
    "println()\n",
    "@show length(observations)\n",
    "println()\n",
    "@show length(observation_times);"
   ]
  },
  {
   "cell_type": "markdown",
   "metadata": {},
   "source": [
    "### Prepare to plot.\n",
    "This sets up the plotting library and gets mesh information we can use for plotting."
   ]
  },
  {
   "cell_type": "code",
   "execution_count": null,
   "metadata": {
    "scrolled": true
   },
   "outputs": [],
   "source": [
    "CairoMakie.activate!()\n",
    "update_theme!(; fontsize=24)\n",
    "function Makie.resize_to_layout!(fig, content_layout)\n",
    "    Makie.update_state_before_display!(fig)\n",
    "    bbox = Makie.GridLayoutBase.tight_bbox(content_layout)\n",
    "    new_size = (widths(bbox)...,)\n",
    "    resize!(fig.scene, widths(bbox)...)\n",
    "end\n",
    "grid_2d = get_2d_plotting_mesh(params_gt.transition.mesh)"
   ]
  },
  {
   "cell_type": "markdown",
   "metadata": {},
   "source": [
    "### Show ground-truth permeability\n",
    "\n",
    "The permeability is a second-order diagonal tensor field. Here, we plot the lateral component of the permeability."
   ]
  },
  {
   "cell_type": "code",
   "execution_count": null,
   "metadata": {
    "scrolled": false
   },
   "outputs": [],
   "source": [
    "fig = Figure()\n",
    "data = states[1][:Permeability]\n",
    "@show size(data)\n",
    "content_layout = GridLayout(fig[1,1])\n",
    "plot_scalar_field(content_layout, Observable(data[1, :]); grid_2d, heatmap_kwargs=(; colormap=Reverse(:Purples)))\n",
    "resize_to_layout!(fig, content_layout)\n",
    "fig"
   ]
  },
  {
   "cell_type": "markdown",
   "metadata": {},
   "source": [
    "### Show ground-truth plume over time\n",
    "Here I use [Makie.jl] to easily visualize the time-dependent stats over time.\n",
    "\n",
    "[Makie.jl]: [https://docs.makie.org/]"
   ]
  },
  {
   "cell_type": "code",
   "execution_count": null,
   "metadata": {},
   "outputs": [],
   "source": [
    "fig = Figure()\n",
    "t_idx = Observable(1)\n",
    "data = @lift(states[$t_idx][:Saturation])\n",
    "content_layout = GridLayout(fig[1,1])\n",
    "ax = plot_scalar_field(content_layout, data; grid_2d, heatmap_kwargs=(; colorrange=(0,1), colormap=parula))\n",
    "    \n",
    "label = lift(t_idx -> \"Saturation at time step $(t_idx)\", t_idx)\n",
    "Label(fig[1,1, Top()], label)\n",
    "resize_to_layout!(fig, content_layout)\n",
    "\n",
    "Record(fig, 1:length(states); framerate = 1) do i\n",
    "    t_idx[] = i\n",
    "end"
   ]
  },
  {
   "cell_type": "code",
   "execution_count": null,
   "metadata": {},
   "outputs": [],
   "source": [
    "fig = Figure()\n",
    "t_idx = Observable(1)\n",
    "data = @lift(states[$t_idx][:Pressure] .- states[1][:Pressure])\n",
    "content_layout = GridLayout(fig[1,1])\n",
    "plot_scalar_field(content_layout, data; grid_2d, heatmap_kwargs=(; make_divergent=true, colormap=Reverse(:RdBu)))\n",
    "    \n",
    "label = lift(t_idx -> \"Pressure difference at time step $(t_idx)\", t_idx)\n",
    "Label(fig[1,1, Top()], label)\n",
    "resize_to_layout!(fig, content_layout)\n",
    "\n",
    "Record(fig, 1:length(states); framerate = 1) do i\n",
    "    t_idx[] = i\n",
    "end"
   ]
  },
  {
   "cell_type": "code",
   "execution_count": null,
   "metadata": {},
   "outputs": [],
   "source": [
    "fig = Figure()\n",
    "t_idx = Observable(1)\n",
    "data = @lift(observations[$t_idx][:rtm] .- observations[1][:rtm])\n",
    "content_layout = GridLayout(fig[1,1])\n",
    "plot_scalar_field(content_layout, data; grid_2d, heatmap_kwargs=(; make_divergent=true, colormap=Reverse(:RdBu)))\n",
    "    \n",
    "label = lift(t_idx -> \"Time-lapse RTM at time step $(t_idx)\", t_idx)\n",
    "Label(fig[1,1, Top()], label)\n",
    "resize_to_layout!(fig, content_layout)\n",
    "\n",
    "Record(fig, 1:length(states); framerate = 1) do i\n",
    "    t_idx[] = i\n",
    "end"
   ]
  },
  {
   "cell_type": "code",
   "execution_count": null,
   "metadata": {},
   "outputs": [],
   "source": [
    "fig = Figure(; size=(1000, 520))\n",
    "t_idx = Observable(1)\n",
    "function dshot_diff(state)\n",
    "    return [d .- d0 for (d0, d) in zip(observations[1][:dshot], state[:dshot])]\n",
    "end\n",
    "data = @lift(dshot_diff(observations[$t_idx]))\n",
    "content_layout = GridLayout(fig[1,1])\n",
    "timeR = @lift(params_gt.observation.observers[$t_idx].second.seismic.timeR)\n",
    "dtR = @lift(params_gt.observation.observers[$t_idx].second.seismic.dtR)\n",
    "nsrc = params_gt.observation.observers[1].second.seismic.source_receiver_geometry.nsrc\n",
    "plot_data(content_layout, data, nothing, :dshot; heatmap_kwargs=(; make_divergent=true, colormap=Reverse(:RdBu)), nsrc, timeR, dtR)\n",
    "    \n",
    "label = lift(t_idx -> \"Time-lapse shot data at time step $(t_idx)\", t_idx)\n",
    "Label(fig[1,1, Top()], label)\n",
    "resize_to_layout!(fig, content(content_layout[1, 1][2, 1]))\n",
    "\n",
    "Record(fig, 1:length(states); framerate = 1) do i\n",
    "    t_idx[] = i\n",
    "end"
   ]
  },
  {
   "cell_type": "markdown",
   "metadata": {},
   "source": [
    "## Generate initial ensemble\n",
    "\n",
    "First, we'll look at the parameters for this script."
   ]
  },
  {
   "cell_type": "code",
   "execution_count": null,
   "metadata": {
    "scrolled": true
   },
   "outputs": [],
   "source": [
    "params_file = datadir(\"initial_ensemble\", \"params\", \"$filestem.jld2\")\n",
    "wsave(params_file; params=params.ensemble)\n",
    "\n",
    "params_file = datadir(\"initial_ensemble\", \"params\", \"$filestem-human.yaml\")\n",
    "YAML.write_file(params_file, to_dict(params.ensemble, YAMLStyle))\n",
    "\n",
    "println(YAML.write(to_dict(params.ensemble, YAMLStyle)))"
   ]
  },
  {
   "cell_type": "markdown",
   "metadata": {},
   "source": [
    "### Run generation code\n",
    "This code again uses DrWatson's `produce_or_load` functionality to avoid building the ensemble unnecessarily."
   ]
  },
  {
   "cell_type": "code",
   "execution_count": null,
   "metadata": {},
   "outputs": [],
   "source": [
    "savedir = datadir(\"initial_ensemble\", \"data\")\n",
    "data_initial, filepath = produce_or_load(\n",
    "    generate_initial_ensemble,\n",
    "    params.ensemble,\n",
    "    savedir;\n",
    "    filename=filestem,\n",
    "    verbose=false,\n",
    "    loadfile=true,\n",
    ")\n",
    "ensemble = data_initial[\"ensemble\"];"
   ]
  },
  {
   "cell_type": "markdown",
   "metadata": {},
   "source": [
    "## Visualize initial ensemble data\n",
    "\n",
    "Let's look at the generated data. First, we'll check some basic information about the data."
   ]
  },
  {
   "cell_type": "code",
   "execution_count": null,
   "metadata": {},
   "outputs": [],
   "source": [
    "@show length(ensemble.members)\n",
    "println()\n",
    "@show keys(ensemble.members[1]);"
   ]
  },
  {
   "cell_type": "markdown",
   "metadata": {},
   "source": [
    "### Visualize ensemble permeabilities"
   ]
  },
  {
   "cell_type": "code",
   "execution_count": null,
   "metadata": {},
   "outputs": [],
   "source": [
    "fig = Figure()\n",
    "e_idx = Observable(1)\n",
    "data = @lift(ensemble.members[$e_idx][:Permeability][1, :])\n",
    "content_layout = GridLayout(fig[1,1])\n",
    "plot_scalar_field(content_layout, data; grid_2d, heatmap_kwargs=(; colormap=Reverse(:Purples)))\n",
    "    \n",
    "label = lift(e_idx -> \"Permeability sample $(e_idx)\", e_idx)\n",
    "Label(fig[1,1, Top()], label)\n",
    "resize_to_layout!(fig, content_layout)\n",
    "\n",
    "Record(fig, 1:min(length(ensemble.members), 64); framerate = 2) do i\n",
    "    e_idx[] = i\n",
    "end"
   ]
  },
  {
   "cell_type": "markdown",
   "metadata": {},
   "source": [
    "### Visualize ensemble saturations"
   ]
  },
  {
   "cell_type": "code",
   "execution_count": null,
   "metadata": {},
   "outputs": [],
   "source": [
    "fig = Figure()\n",
    "e_idx = Observable(1)\n",
    "data = @lift(ensemble.members[$e_idx][:Saturation])\n",
    "content_layout = GridLayout(fig[1,1])\n",
    "ax = plot_scalar_field(content_layout, data; grid_2d, heatmap_kwargs=(; colorrange=(0,1), colormap=parula))\n",
    "    \n",
    "label = lift(e_idx -> \"Saturation sample $(e_idx)\", e_idx)\n",
    "Label(fig[1,1, Top()], label)\n",
    "resize_to_layout!(fig, content_layout)\n",
    "\n",
    "Record(fig, 1:min(length(ensemble.members), 64); framerate = 2) do i\n",
    "    e_idx[] = i\n",
    "end"
   ]
  },
  {
   "cell_type": "markdown",
   "metadata": {},
   "source": [
    "## Run estimator\n",
    "\n",
    "We'll start out by printing out the parameters again.\n",
    "\n",
    "The parameters for the estimator include:\n",
    "\n",
    "- transition parameters\n",
    "- observation parameters\n",
    "- assimilation parameters"
   ]
  },
  {
   "cell_type": "code",
   "execution_count": null,
   "metadata": {},
   "outputs": [],
   "source": [
    "params_file = datadir(\"estimator\", \"params\", \"$filestem.jld2\")\n",
    "wsave(params_file; params=params.estimator)\n",
    "\n",
    "params_file = datadir(\"estimator\", \"params\", \"$filestem-human.yaml\")\n",
    "YAML.write_file(params_file, to_dict(params.estimator, YAMLStyle))"
   ]
  },
  {
   "cell_type": "markdown",
   "metadata": {},
   "source": [
    "### Transition parameters"
   ]
  },
  {
   "cell_type": "code",
   "execution_count": null,
   "metadata": {
    "scrolled": true
   },
   "outputs": [],
   "source": [
    "if params.estimator.transition == params.ground_truth.transition\n",
    "    println(\"Same transition parameters as ground truth.\")\n",
    "else\n",
    "    println(YAML.write(to_dict(params.estimator.transition, YAMLStyle)))\n",
    "end"
   ]
  },
  {
   "cell_type": "markdown",
   "metadata": {},
   "source": [
    "### Observation parameters"
   ]
  },
  {
   "cell_type": "code",
   "execution_count": null,
   "metadata": {},
   "outputs": [],
   "source": [
    "if params.estimator.observation == params.ground_truth.observation\n",
    "    println(\"Same observation parameters as ground truth.\")\n",
    "else\n",
    "    println(\"Observation times (seconds): $([o.first for o in params.estimator.observation.observers])\")\n",
    "    println()\n",
    "    println(YAML.write(to_dict(params.estimator.observation.observers[1].second, YAMLStyle)))\n",
    "end"
   ]
  },
  {
   "cell_type": "markdown",
   "metadata": {},
   "source": [
    "### Run assimilation loop\n",
    "\n",
    "This could use DrWatson's `produce_or_load`, but I want to show what this code looks like."
   ]
  },
  {
   "cell_type": "code",
   "execution_count": null,
   "metadata": {},
   "outputs": [],
   "source": [
    "# Get the data we need from earlier in the tutorial.\n",
    "observations_gt = data_gt[\"observations\"]\n",
    "ensemble = deepcopy(data_initial[\"ensemble\"])\n",
    "\n",
    "# Set the parameters that can be updated during assimilation.\n",
    "empty!(ensemble.state_keys)\n",
    "append!(ensemble.state_keys, params.estimator.assimilation_state_keys)\n",
    "\n",
    "# Define which parameters will be passed to JutulModel.\n",
    "K = (Val(:Saturation), Val(:Pressure), Val(:Permeability))\n",
    "JMT = JutulModelTranslator(K)\n",
    "\n",
    "# Create transitioner.\n",
    "M = JutulModel(; translator=JMT, options=params.estimator.transition, kwargs=(;info_level=-1))\n",
    "\n",
    "# Create observers.\n",
    "observers = get_multi_time_observer(params.estimator.observation)\n",
    "@show observers.times;"
   ]
  },
  {
   "cell_type": "code",
   "execution_count": null,
   "metadata": {},
   "outputs": [],
   "source": [
    "# Initialize each member for all primary variables in simulation.\n",
    "@show keys(ensemble.members[1])\n",
    "@progress \"Initialize ensemble states\" for member in get_ensemble_members(ensemble)\n",
    "    initialize_member!(M, member)\n",
    "end\n",
    "@show keys(ensemble.members[1]);"
   ]
  },
  {
   "cell_type": "code",
   "execution_count": null,
   "metadata": {
    "scrolled": true
   },
   "outputs": [],
   "source": [
    "# Create the object for running the assimilation algorithm.\n",
    "estimator = get_estimator(params.estimator.algorithm)\n",
    "\n",
    "# Run the predict-update loop.\n",
    "t0 = 0.0\n",
    "data_estimator = filter_loop(\n",
    "    ensemble,\n",
    "    t0,\n",
    "    estimator,\n",
    "    M,\n",
    "    observers,\n",
    "    observations_gt;\n",
    "    name=get_short_name(params.estimator.algorithm),\n",
    "    max_transition_step = params.estimator.max_transition_step,\n",
    "    assimilation_obs_keys=params.estimator.assimilation_obs_keys,\n",
    ")\n",
    "savedir = datadir(\"estimator\", \"data\")\n",
    "mkpath(savedir)\n",
    "let data=data_estimator\n",
    "    data = Dict(Symbol(k) => v for (k,v) in data)\n",
    "    jldsave(joinpath(savedir, \"tutorial-estimator.jld2\"); data...)\n",
    "end"
   ]
  },
  {
   "cell_type": "markdown",
   "metadata": {},
   "source": [
    "## Visualize estimator results\n",
    "\n",
    "First, we'll look at the times that the data is collected."
   ]
  },
  {
   "cell_type": "code",
   "execution_count": null,
   "metadata": {},
   "outputs": [],
   "source": [
    "display(keys(data_estimator))\n",
    "@show data_estimator[\"observation_times\"]\n",
    "println()\n",
    "@show data_estimator[\"state_times\"];"
   ]
  },
  {
   "cell_type": "markdown",
   "metadata": {},
   "source": [
    "### Visualize estimated saturation"
   ]
  },
  {
   "cell_type": "code",
   "execution_count": null,
   "metadata": {},
   "outputs": [],
   "source": [
    "fig = Figure()\n",
    "t_idx = Observable(1)\n",
    "state_times = data_estimator[\"state_times\"]\n",
    "states_estimator = data_estimator[\"state_means\"]\n",
    "data = @lift(states_estimator[$t_idx][:Saturation])\n",
    "content_layout = GridLayout(fig[1,1])\n",
    "ax = plot_scalar_field(content_layout, data; grid_2d, heatmap_kwargs=(; colorrange=(0,1), colormap=parula))\n",
    "\n",
    "label = lift(t_idx -> \"Estimated saturation at year $(state_times[t_idx]/365.2425/24/3600)\", t_idx)\n",
    "Label(fig[1,1, Top()], label)\n",
    "resize_to_layout!(fig, content_layout)\n",
    "\n",
    "Record(fig, 1:length(states_estimator); framerate = 1) do i\n",
    "    t_idx[] = i\n",
    "end"
   ]
  },
  {
   "cell_type": "markdown",
   "metadata": {},
   "source": [
    "### Visualize saturation uncertainty\n",
    "\n",
    "Here, we visualize the standard deviation of the samples."
   ]
  },
  {
   "cell_type": "code",
   "execution_count": null,
   "metadata": {},
   "outputs": [],
   "source": [
    "fig = Figure()\n",
    "t_idx = Observable(1)\n",
    "state_estimator_stds = [std(ensemble) for ensemble in data_estimator[\"states\"]]\n",
    "data = @lift(state_estimator_stds[$t_idx][:Saturation])\n",
    "content_layout = GridLayout(fig[1,1])\n",
    "ax = plot_scalar_field(content_layout, data; grid_2d, heatmap_kwargs=(; colorrange=(0,1), colormap=parula))\n",
    "\n",
    "label = lift(t_idx -> \"Estimated saturation std at year $(state_times[t_idx]/365.2425/24/3600)\", t_idx)\n",
    "Label(fig[1,1, Top()], label)\n",
    "resize_to_layout!(fig, content_layout)\n",
    "\n",
    "Record(fig, 1:length(states_estimator); framerate = 1) do i\n",
    "    t_idx[] = i\n",
    "end"
   ]
  },
  {
   "cell_type": "markdown",
   "metadata": {},
   "source": [
    "## Custom estimator\n",
    "\n",
    "This software framework is designed to be extensible. Let's design our own estimator algorithm."
   ]
  },
  {
   "cell_type": "markdown",
   "metadata": {},
   "source": [
    "There are two key ingredients:\n",
    "\n",
    "1. We need to define a struct with any information we need for the filter.\n",
    "2. We need to overload the `assimilate_data` function to do our custom estimator algorithm."
   ]
  },
  {
   "cell_type": "code",
   "execution_count": null,
   "metadata": {},
   "outputs": [],
   "source": [
    "# Struct definitions cannot be changed without restarting the kernel.\n",
    "# To bypass that restrict, we alias the name of the struct,\n",
    "# and if we want to change it, we change the struct name while keeping the alias the same.\n",
    "struct MyEstimator1\n",
    "    scale\n",
    "end\n",
    "MyEstimator = MyEstimator1"
   ]
  },
  {
   "cell_type": "code",
   "execution_count": null,
   "metadata": {},
   "outputs": [],
   "source": [
    "using Ensembles:\n",
    "    Ensembles, Ensemble, get_ensemble_matrix, get_ensemble_dicts, get_member_vector\n",
    "\n",
    "function Ensembles.assimilate_data(\n",
    "    estimator::MyEstimator, ensemble, ensemble_obs_clean, ensemble_obs_noisy, y_obs, log_data\n",
    ")\n",
    "    X = Float64.(get_ensemble_matrix(ensemble))\n",
    "    Y = Float64.(get_ensemble_matrix(ensemble_obs_noisy))\n",
    "    y_true = get_member_vector(ensemble_obs_noisy, y_obs)\n",
    "\n",
    "    X_updated = X .* estimator.scale\n",
    "\n",
    "    members = get_ensemble_dicts(ensemble, X_updated)\n",
    "    posterior = Ensemble(members, ensemble.state_keys)\n",
    "    return posterior\n",
    "end"
   ]
  },
  {
   "cell_type": "code",
   "execution_count": null,
   "metadata": {},
   "outputs": [],
   "source": [
    "custom_estimator = MyEstimator(0.1)\n",
    "ensemble = deepcopy(data_initial[\"ensemble\"])\n",
    "\n",
    "# Set the parameters that can be updated during assimilation.\n",
    "empty!(ensemble.state_keys)\n",
    "append!(ensemble.state_keys, params.estimator.assimilation_state_keys)\n",
    "\n",
    "# Initialize each member for all primary variables in simulation.\n",
    "@progress \"Initialize ensemble states\" for member in get_ensemble_members(ensemble)\n",
    "    initialize_member!(M, member)\n",
    "end\n",
    "\n",
    "# Run the predict-update loop.\n",
    "data_custom = filter_loop(\n",
    "    ensemble,\n",
    "    t0,\n",
    "    custom_estimator,\n",
    "    M,\n",
    "    observers,\n",
    "    observations_gt;\n",
    "    name=string(custom_estimator),\n",
    "    max_transition_step = params.estimator.max_transition_step,\n",
    "    assimilation_obs_keys=params.estimator.assimilation_obs_keys,\n",
    ")\n",
    "let data=data_custom\n",
    "    data = Dict(Symbol(k) => v for (k,v) in data)\n",
    "    jldsave(joinpath(savedir, \"tutorial-custom.jld2\"); data...)\n",
    "end"
   ]
  },
  {
   "cell_type": "markdown",
   "metadata": {},
   "source": [
    "### Visualize custom results"
   ]
  },
  {
   "cell_type": "code",
   "execution_count": null,
   "metadata": {},
   "outputs": [],
   "source": [
    "fig = Figure()\n",
    "t_idx = Observable(1)\n",
    "state_times = data_custom[\"state_times\"]\n",
    "states_custom = data_custom[\"state_means\"]\n",
    "data = @lift(states_custom[$t_idx][:Saturation])\n",
    "content_layout = GridLayout(fig[1,1])\n",
    "ax = plot_scalar_field(content_layout, data; grid_2d, heatmap_kwargs=(; colorrange=(0,1), colormap=parula))\n",
    "\n",
    "label = lift(t_idx -> \"$(custom_estimator) saturation at year $(state_times[t_idx]/365.2425/24/3600)\", t_idx)\n",
    "Label(fig[1,1, Top()], label)\n",
    "resize_to_layout!(fig, content_layout)\n",
    "\n",
    "Record(fig, 1:length(states_custom); framerate = 1) do i\n",
    "    t_idx[] = i\n",
    "end"
   ]
  },
  {
   "cell_type": "code",
   "execution_count": null,
   "metadata": {},
   "outputs": [],
   "source": [
    "fig = Figure()\n",
    "t_idx = Observable(1)\n",
    "state_custom_stds = [std(ensemble) for ensemble in data_custom[\"states\"]]\n",
    "data = @lift(state_custom_stds[$t_idx][:Saturation])\n",
    "content_layout = GridLayout(fig[1,1])\n",
    "ax = plot_scalar_field(content_layout, data; grid_2d, heatmap_kwargs=(; colorrange=(0,1), colormap=parula))\n",
    "\n",
    "label = lift(t_idx -> \"$(custom_estimator) saturation std at year $(state_times[t_idx]/365.2425/24/3600)\", t_idx)\n",
    "Label(fig[1,1, Top()], label)\n",
    "resize_to_layout!(fig, content_layout)\n",
    "\n",
    "Record(fig, 1:length(state_custom_stds); framerate = 1) do i\n",
    "    t_idx[] = i\n",
    "end"
   ]
  },
  {
   "cell_type": "markdown",
   "metadata": {},
   "source": [
    "## Conclusion\n",
    "\n",
    "In this tutorial, we've demonstrated setting up a digital shadow for CO₂ storage.\n",
    "\n",
    "The framework can be extended to use other algorithms that update samples based on observations.\n",
    "\n",
    "### Future Improvements\n",
    "1. Documentation\n",
    "2. Interface for easily parallelization\n",
    "3. More parameters and more uncertain parameters\n",
    "4. More estimators (JustObs, NF, ...)\n",
    "5. Joint state-parameter estimation"
   ]
  }
 ],
 "metadata": {
  "kernelspec": {
   "display_name": "Julia 1.10.6",
   "language": "julia",
   "name": "julia-1.10"
  },
  "language_info": {
   "file_extension": ".jl",
   "mimetype": "application/julia",
   "name": "julia",
   "version": "1.10.6"
  }
 },
 "nbformat": 4,
 "nbformat_minor": 4
}
